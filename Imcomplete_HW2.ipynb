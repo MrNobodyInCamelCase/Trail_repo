{
 "cells": [
  {
   "cell_type": "markdown",
   "id": "935cdfd1",
   "metadata": {},
   "source": [
    "Problem 1 (20 points)\n",
    "Show that the stationary point (zero gradient) of the function$$\n",
    "\\begin{aligned}\n",
    "    f=2x_{1}^{2} - 4x_1 x_2+ 1.5x^{2}_{2}+ x_2\n",
    "\\end{aligned}\n",
    "$$is a saddle (with indefinite Hessian). Find the directions of downslopes away from the saddle. Hint: Use Taylor's expansion at the saddle point. Find directions that reduce $f$"
   ]
  },
  {
   "cell_type": "code",
   "execution_count": 9,
   "id": "32c9adda",
   "metadata": {},
   "outputs": [
    {
     "name": "stdout",
     "output_type": "stream",
     "text": [
      "Stationary points are:\n",
      " {x1: 1.00000000000000, x2: 1.00000000000000}\n",
      "Value of the function at stationary point: 0.500000000000000\n",
      "The eigenvales are:\n",
      "7.53112887414927 -0.531128874149275\n",
      "Indefinite Hessian\n"
     ]
    }
   ],
   "source": [
    "import sympy as sym\n",
    "\n",
    "\n",
    "x1, x2 = sym.symbols(\"x1 x2\")  # variables to be used in the function\n",
    "f = 2*(x1)**2 - (4 * x1 * x2) + (1.5 * (x2)**2) + x2  # Declaring the function\n",
    "\n",
    "gradient = sym.derive_by_array(f, (x1, x2))  # Finding the gradient of the function\n",
    "\n",
    "hessian = sym.Matrix(sym.derive_by_array(gradient, (x1, x2)))  # Finding Hessian of the function\n",
    "\n",
    "stationary_points = sym.solve(gradient, (x1, x2))  \n",
    "print(f'Stationary points are:\\n {stationary_points}')\n",
    "\n",
    "value = f.subs({x1: stationary_points[x1], x2: stationary_points[x2]})\n",
    "print(f'Value of the function at stationary point: {value}')\n",
    "\n",
    "egnval = hessian.eigenvals()  # Finding the eigenvalues of the Hessian\n",
    "e_val = list(egnval.keys())\n",
    "print(\"The eigenvales are:\")\n",
    "print(*e_val)\n",
    "\n",
    "\n",
    "# checking for the nature of he Hessain\n",
    "posi = zo = nposi = 0\n",
    "\n",
    "for val in e_val:\n",
    "    val = float(val)\n",
    "    if val > 0:\n",
    "        posi += 1\n",
    "    elif val == 0:\n",
    "        zo += 1\n",
    "    else:\n",
    "        nposi += 1\n",
    "\n",
    "if posi == len(e_val):\n",
    "    print(\"Positive Definite Hessian\")\n",
    "elif zo == len(e_val):\n",
    "    print(\"Undertimed Eigen Values are zero\")\n",
    "elif nposi == len(e_val):\n",
    "    print(\"Negative Definite Hessian\")\n",
    "else:\n",
    "    print(\"Indefinite Hessian\")"
   ]
  }
 ],
 "metadata": {
  "kernelspec": {
   "display_name": "Python 3 (ipykernel)",
   "language": "python",
   "name": "python3"
  },
  "language_info": {
   "codemirror_mode": {
    "name": "ipython",
    "version": 3
   },
   "file_extension": ".py",
   "mimetype": "text/x-python",
   "name": "python",
   "nbconvert_exporter": "python",
   "pygments_lexer": "ipython3",
   "version": "3.9.6"
  }
 },
 "nbformat": 4,
 "nbformat_minor": 5
}
